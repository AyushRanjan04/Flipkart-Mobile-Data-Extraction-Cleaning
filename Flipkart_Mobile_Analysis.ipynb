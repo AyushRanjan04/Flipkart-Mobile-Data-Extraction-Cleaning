{
 "cells": [
  {
   "cell_type": "code",
   "execution_count": 1,
   "id": "8c1b40ed-c721-4cd5-be6a-8d104898af74",
   "metadata": {},
   "outputs": [],
   "source": [
    "# Import Important Libraries\n",
    "from bs4 import BeautifulSoup\n",
    "import requests\n",
    "import pandas as pd\n",
    "import numpy as np\n",
    "\n",
    "# Agent for getting request\n"
   ]
  },
  {
   "cell_type": "markdown",
   "id": "ac295208-4d54-4f55-8256-b7a7aa6ac6ba",
   "metadata": {},
   "source": [
    "### WebScraping Start Here"
   ]
  },
  {
   "cell_type": "code",
   "execution_count": 2,
   "id": "04f8bfa8-89e5-49ee-95fe-249ae450d792",
   "metadata": {},
   "outputs": [
    {
     "name": "stdin",
     "output_type": "stream",
     "text": [
      " 41\n"
     ]
    }
   ],
   "source": [
    "# Getting the request of Amazon website\n",
    "def Getting_request(website):\n",
    "    headers = {'User-Agent':'Mozilla/5.0 (Windows NT 10.0; Win64; x64) AppleWebKit/537.36 (KHTML, like Gecko) Chrome/139.0.0.0 Safari/537.36'}\n",
    "    \n",
    "    site_list = []\n",
    "    all_content = []\n",
    "    for i in range(1,int(input())):  # Total Pages are 41 i.e input = 41\n",
    "        list_ = f\"{website}&page={i}\"\n",
    "        site_list.append(list_)\n",
    "        \n",
    "    for sites in site_list:\n",
    "        response = requests.get(sites,headers= headers)\n",
    "    \n",
    "        if response.status_code == 200:\n",
    "            all_content.append(response.content)\n",
    "            \n",
    "        else:\n",
    "            print(\"Site is not giving permission to scrap\")\n",
    "            \n",
    "    return all_content\n",
    "            \n",
    "website =\"https://www.flipkart.com/search?sid=tyy%2C4io&otracker=CLP_Filters\" #\"https://www.flipkart.com/search?sid=tyy%2C4io&otracker=CLP_Filters&p%5B%5D=facets.brand%255B%255D%3DApple\"  \n",
    "text_data = Getting_request(website)"
   ]
  },
  {
   "cell_type": "code",
   "execution_count": 3,
   "id": "72bf6abe-e565-4ab7-9117-71c8dafd5146",
   "metadata": {},
   "outputs": [],
   "source": [
    "# Getting all Titles of phone\n",
    "flipkart_data = {} # This is the Dictonery where my data present after scraping\n",
    "lis = []\n",
    "for content in text_data:\n",
    "    soup = BeautifulSoup(content, 'html.parser')\n",
    "    titles = soup.find_all(name = 'div', attrs = {'class':'KzDlHZ'})\n",
    "\n",
    "    for title in titles:\n",
    "        lis.append(title.text)\n",
    "        \n",
    "flipkart_data['name'] = lis"
   ]
  },
  {
   "cell_type": "code",
   "execution_count": 4,
   "id": "8676a5a4-88f0-4906-8de0-a51a9ee2e226",
   "metadata": {},
   "outputs": [],
   "source": [
    "# Get Price Data from Site\n",
    "price = []\n",
    "for content in text_data:\n",
    "    soup = BeautifulSoup(content, 'html.parser')\n",
    "    titles = soup.find_all(name = 'div', attrs = {'class':'Nx9bqj _4b5DiR'})\n",
    "\n",
    "    for title in titles:\n",
    "        price.append(title.text)\n",
    "        \n",
    "flipkart_data['price'] = price"
   ]
  },
  {
   "cell_type": "code",
   "execution_count": 5,
   "id": "1578c911-a96c-4e7b-a465-5bb45f93ac08",
   "metadata": {},
   "outputs": [],
   "source": [
    "# Getting all Discount of phone\n",
    "discount = []\n",
    "for content in text_data:\n",
    "    soup = BeautifulSoup(content, 'html.parser')\n",
    "    titles = soup.find_all(name = 'div', attrs = {'class':'UkUFwK'})\n",
    "\n",
    "    for title in titles:\n",
    "        discount.append(title.text)\n",
    "flipkart_data['discount'] = discount"
   ]
  },
  {
   "cell_type": "code",
   "execution_count": 6,
   "id": "6e27f0b6-6ec6-46a5-ac54-8514c69c8140",
   "metadata": {},
   "outputs": [],
   "source": [
    "# Getting Memory Specification Data \n",
    "all_memory_tags = []\n",
    "for content in text_data:\n",
    "    soup = BeautifulSoup(content, 'html.parser')\n",
    "    ul_tags = soup.find_all(name = 'ul', attrs = {'class':'G4BRas'})\n",
    "\n",
    "    for ul in ul_tags:\n",
    "        li_tags = ul.find_all('li')\n",
    "        li_text = [li.text.strip() for li in li_tags if li.text.strip()]\n",
    "        all_memory_tags.append(li_text)"
   ]
  },
  {
   "cell_type": "code",
   "execution_count": 7,
   "id": "4da5d6cc-2a3b-424e-a67c-08511747a02f",
   "metadata": {},
   "outputs": [],
   "source": [
    "memory = []\n",
    "display = []\n",
    "camera = []\n",
    "battery = []\n",
    "warranty = []\n",
    "processor = []\n",
    "\n",
    "for spec in all_memory_tags:\n",
    "    memory.append(spec[0])\n",
    "    display.append(spec[1])\n",
    "    camera.append(spec[2])\n",
    "    battery.append(spec[3])\n",
    "    processor.append(spec[-2])\n",
    "    warranty.append(spec[-1])\n",
    "\n",
    "flipkart_data['memory'] = memory\n",
    "flipkart_data['display'] = display\n",
    "flipkart_data['camera'] = camera\n",
    "flipkart_data['battery'] = battery\n",
    "flipkart_data['processor'] = processor\n",
    "flipkart_data['warranty'] = warranty\n"
   ]
  },
  {
   "cell_type": "markdown",
   "id": "27dbb2de-6f0d-4393-a8d9-5c07af9378f5",
   "metadata": {},
   "source": [
    "### WebScraping Ends Here"
   ]
  },
  {
   "cell_type": "markdown",
   "id": "38539092-0f4a-40b8-b4b1-925f7319ab05",
   "metadata": {},
   "source": [
    "# DataFrame Creation"
   ]
  },
  {
   "cell_type": "code",
   "execution_count": 8,
   "id": "122a59f4-a649-4232-8bb5-5f1626019aeb",
   "metadata": {},
   "outputs": [
    {
     "name": "stdout",
     "output_type": "stream",
     "text": [
      "(960, 9)\n"
     ]
    }
   ],
   "source": [
    "# Set target length (based on the majority or correct column)\n",
    "target_length = len(flipkart_data['name'])\n",
    "\n",
    "# Fix the lengths\n",
    "for key in flipkart_data:\n",
    "    current_len = len(flipkart_data[key])\n",
    "\n",
    "    if current_len < target_length:\n",
    "        # Pad with NaN if too short\n",
    "        flipkart_data[key] += [np.nan] * (target_length - current_len)\n",
    "    elif current_len > target_length:\n",
    "        # Trim extra items if too long\n",
    "        flipkart_data[key] = flipkart_data[key][:target_length]\n",
    "\n",
    "# Step 3: Create DataFrame\n",
    "df = pd.DataFrame(flipkart_data)\n",
    "\n",
    "print(df.shape)\n"
   ]
  }
 ],
 "metadata": {
  "kernelspec": {
   "display_name": "Python 3 (ipykernel)",
   "language": "python",
   "name": "python3"
  },
  "language_info": {
   "codemirror_mode": {
    "name": "ipython",
    "version": 3
   },
   "file_extension": ".py",
   "mimetype": "text/x-python",
   "name": "python",
   "nbconvert_exporter": "python",
   "pygments_lexer": "ipython3",
   "version": "3.12.4"
  }
 },
 "nbformat": 4,
 "nbformat_minor": 5
}
